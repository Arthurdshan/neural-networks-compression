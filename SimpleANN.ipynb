{
 "cells": [
  {
   "cell_type": "code",
   "execution_count": 1,
   "id": "bdfc1a70-af4b-47c6-b2fa-b019a5af5bf6",
   "metadata": {},
   "outputs": [],
   "source": [
    "import pandas as pd \n",
    "import numpy as np\n",
    "\n",
    "from keras.callbacks import EarlyStopping\n",
    "from keras.models import Sequential\n",
    "from keras.layers import Dense\n",
    "from keras.layers import Dropout\n",
    "\n",
    "from sklearn.model_selection import train_test_split\n",
    "from sklearn.preprocessing import StandardScaler\n",
    "\n",
    "from keras.datasets import mnist\n",
    "from keras.applications.vgg16 import VGG16\n",
    "\n",
    "import matplotlib.pyplot as plt\n",
    "%matplotlib inline"
   ]
  },
  {
   "cell_type": "markdown",
   "id": "aaee3b81-4667-4940-8b56-8b847f24b112",
   "metadata": {},
   "source": [
    "Loading the dataset and adding the padding"
   ]
  },
  {
   "cell_type": "code",
   "execution_count": 2,
   "id": "44c4f239-8efd-484d-898c-3a4376f5eda8",
   "metadata": {},
   "outputs": [],
   "source": [
    "def add_padding(dataset=None, pad_width = 0, constant_values=0) -> []:\n",
    "    padded_dataset = []\n",
    "    \n",
    "    for i in dataset:\n",
    "        padded = np.pad(i, pad_width=pad_width, mode='constant', constant_values=constant_values)\n",
    "        padded_dataset.append(padded[:, :, np.newaxis])\n",
    "    \n",
    "    return padded_dataset\n",
    "    \n",
    "def write_matrix_to_file(matrix=None, file_name=\"random.txt\"):\n",
    "    with open(file_name, 'wb') as f:\n",
    "        for line in matrix:\n",
    "            np.savetxt(f, line, delimiter=' ')"
   ]
  },
  {
   "cell_type": "code",
   "execution_count": 3,
   "id": "eb18a985-c7da-4397-981c-3c5dbefede3c",
   "metadata": {},
   "outputs": [],
   "source": [
    "(x_train, y_train), (x_test, y_test) = mnist.load_data()\n",
    "\n",
    "new_x_train = add_padding(x_train, pad_width=2, constant_values=0)\n",
    "new_x_test = add_padding(x_test, pad_width=2, constant_values=0)"
   ]
  },
  {
   "cell_type": "code",
   "execution_count": 4,
   "id": "f6543e9f-a19f-4bb3-a7e4-a10ae34d75b0",
   "metadata": {},
   "outputs": [],
   "source": [
    "new_x_train = np.asarray(new_x_train)\n",
    "new_x_test = np.asarray(new_x_test)\n",
    "\n",
    "dim_data = np.prod(new_x_train.shape[1:])\n",
    "\n",
    "new_x_train = new_x_train.reshape(new_x_train.shape[0], dim_data)\n",
    "new_x_train = new_x_train.astype('float32')\n",
    "\n",
    "new_x_test = new_x_test.reshape(new_x_test.shape[0], dim_data)\n",
    "new_x_test = new_x_test.astype('float32')"
   ]
  },
  {
   "cell_type": "code",
   "execution_count": 5,
   "id": "9b7f9f5e-4af7-41bf-bc7c-986385c8391b",
   "metadata": {},
   "outputs": [
    {
     "data": {
      "text/plain": [
       "array([0., 0., 0., ..., 0., 0., 0.], dtype=float32)"
      ]
     },
     "execution_count": 5,
     "metadata": {},
     "output_type": "execute_result"
    }
   ],
   "source": [
    "new_x_train[0]"
   ]
  },
  {
   "cell_type": "code",
   "execution_count": 6,
   "id": "b7511c45-9448-45df-b390-6e8416b2de87",
   "metadata": {},
   "outputs": [],
   "source": [
    "model = Sequential()\n",
    "\n",
    "model.add(Dense(1024, input_shape=(dim_data,)))\n",
    "\n",
    "# gerar novas camadas\n",
    "model.add(Dense(100, activation='relu'))\n",
    "model.add(Dense(100, activation='relu'))\n",
    "model.add(Dense(100, activation='relu'))\n",
    "\n",
    "model.add(Dense(512, activation='relu'))\n",
    "\n",
    "model.compile(loss='mse', \n",
    "              optimizer='adam', \n",
    "              metrics=['mse'])\n",
    "\n",
    "earlyStopping = EarlyStopping(monitor='val_loss', \n",
    "                              patience=25)\n",
    "\n",
    "history = model.fit(new_x_train,\n",
    "                    y_train,\n",
    "                    epochs=250, \n",
    "                    batch_size=1000, \n",
    "                    verbose=0, \n",
    "                    validation_split=0.2, \n",
    "                    callbacks=[earlyStopping])"
   ]
  },
  {
   "cell_type": "code",
   "execution_count": 7,
   "id": "40fae01d-8566-4805-86f6-3022821f8675",
   "metadata": {},
   "outputs": [
    {
     "name": "stdout",
     "output_type": "stream",
     "text": [
      "Model: \"sequential\"\n",
      "_________________________________________________________________\n",
      "Layer (type)                 Output Shape              Param #   \n",
      "=================================================================\n",
      "dense (Dense)                (None, 1024)              1049600   \n",
      "_________________________________________________________________\n",
      "dense_1 (Dense)              (None, 100)               102500    \n",
      "_________________________________________________________________\n",
      "dense_2 (Dense)              (None, 100)               10100     \n",
      "_________________________________________________________________\n",
      "dense_3 (Dense)              (None, 100)               10100     \n",
      "_________________________________________________________________\n",
      "dense_4 (Dense)              (None, 512)               51712     \n",
      "=================================================================\n",
      "Total params: 1,224,012\n",
      "Trainable params: 1,224,012\n",
      "Non-trainable params: 0\n",
      "_________________________________________________________________\n"
     ]
    }
   ],
   "source": [
    "model.summary()"
   ]
  },
  {
   "cell_type": "code",
   "execution_count": 8,
   "id": "5857c2bc-3c1c-4ea5-90ab-f9ed1f00aa23",
   "metadata": {},
   "outputs": [
    {
     "data": {
      "text/plain": [
       "<matplotlib.legend.Legend at 0x7f13b00c75c0>"
      ]
     },
     "execution_count": 8,
     "metadata": {},
     "output_type": "execute_result"
    },
    {
     "data": {
      "image/png": "[encoded data removed]",
      "text/plain": [
       "<Figure size 432x288 with 1 Axes>"
      ]
     },
     "metadata": {
      "needs_background": "light"
     },
     "output_type": "display_data"
    }
   ],
   "source": [
    "plt.plot(history.history['loss'], label='train loss')\n",
    "plt.plot(history.history['val_loss'], label='validation loss')\n",
    "plt.legend()"
   ]
  },
  {
   "cell_type": "code",
   "execution_count": 9,
   "id": "44ebe5b0-ad2a-4107-a844-4e038a7cf409",
   "metadata": {},
   "outputs": [
    {
     "name": "stdout",
     "output_type": "stream",
     "text": [
      "1875/1875 [==============================] - 2s 1ms/step - loss: 0.3174 - mse: 0.3174\n"
     ]
    }
   ],
   "source": [
    "test_results = model.evaluate(new_x_train, y_train, verbose=1)"
   ]
  },
  {
   "cell_type": "code",
   "execution_count": 10,
   "id": "4edb4e33-02c4-47fd-b0a0-b97034a38cf6",
   "metadata": {},
   "outputs": [],
   "source": [
    "train_features = model.predict(new_x_train)"
   ]
  },
  {
   "cell_type": "code",
   "execution_count": 11,
   "id": "5204ee31-91e5-4439-bbd5-d0d80610efb4",
   "metadata": {},
   "outputs": [],
   "source": [
    "test_features = model.predict(new_x_test)"
   ]
  },
  {
   "cell_type": "code",
   "execution_count": 12,
   "id": "a00db87b-da4a-4787-892c-64f53bed5fd7",
   "metadata": {},
   "outputs": [
    {
     "data": {
      "text/plain": [
       "(60000, 512)"
      ]
     },
     "execution_count": 12,
     "metadata": {},
     "output_type": "execute_result"
    }
   ],
   "source": [
    "train_features.shape"
   ]
  },
  {
   "cell_type": "code",
   "execution_count": 13,
   "id": "f6ff3e80-ed90-4844-a1a9-e0e81e82edfb",
   "metadata": {},
   "outputs": [
    {
     "data": {
      "text/plain": [
       "(10000, 512)"
      ]
     },
     "execution_count": 13,
     "metadata": {},
     "output_type": "execute_result"
    }
   ],
   "source": [
    "test_features.shape"
   ]
  },
  {
   "cell_type": "code",
   "execution_count": 14,
   "id": "3c276713-6771-4147-9946-88b06fc9bdea",
   "metadata": {},
   "outputs": [],
   "source": [
    "train_features = np.matrix(train_features)\n",
    "write_matrix_to_file(train_features, file_name=\"simple_ann_train_features.out\")"
   ]
  },
  {
   "cell_type": "code",
   "execution_count": 15,
   "id": "0a867e92-6bd2-478e-9e88-b4a23ddae90e",
   "metadata": {},
   "outputs": [],
   "source": [
    "test_features = np.matrix(test_features)\n",
    "write_matrix_to_file(test_features, file_name=\"simple_ann_test_features.out\")"
   ]
  },
  {
   "cell_type": "code",
   "execution_count": null,
   "id": "eef45907-826f-4ad7-8bd5-8ee0e18317ed",
   "metadata": {},
   "outputs": [],
   "source": []
  }
 ],
 "metadata": {
  "kernelspec": {
   "display_name": "Python 3",
   "language": "python",
   "name": "python3"
  },
  "language_info": {
   "codemirror_mode": {
    "name": "ipython",
    "version": 3
   },
   "file_extension": ".py",
   "mimetype": "text/x-python",
   "name": "python",
   "nbconvert_exporter": "python",
   "pygments_lexer": "ipython3",
   "version": "3.6.9"
  }
 },
 "nbformat": 4,
 "nbformat_minor": 5
}
