{
 "cells": [
  {
   "cell_type": "code",
   "execution_count": 1,
   "id": "87096742-bbfb-42ea-a8f1-c1fc0480341d",
   "metadata": {},
   "outputs": [],
   "source": [
    "import numpy as np\n",
    "import tensorflow as tf\n",
    "\n",
    "from keras.callbacks import EarlyStopping\n",
    "from keras.models import Sequential\n",
    "from keras.layers import Dense\n",
    "from keras.layers import Dropout\n",
    "from keras.datasets import mnist\n",
    "\n",
    "from sklearn.model_selection import train_test_split\n",
    "from sklearn.preprocessing import StandardScaler\n",
    "\n",
    "import matplotlib.pyplot as plt\n",
    "%matplotlib inline"
   ]
  },
  {
   "cell_type": "code",
   "execution_count": 2,
   "id": "b8a561f6-4b20-4380-8ed8-d5fef3ce34ef",
   "metadata": {},
   "outputs": [],
   "source": [
    "simple_ann_train_features = np.loadtxt('simple_ann_train_features.out', dtype='float32', delimiter=' ')"
   ]
  },
  {
   "cell_type": "code",
   "execution_count": 3,
   "id": "c0bb9c1e-ef61-405f-861d-aa53ab2c3d16",
   "metadata": {},
   "outputs": [],
   "source": [
    "simple_ann_test_features = np.loadtxt('simple_ann_test_features.out', dtype='float32', delimiter=' ')"
   ]
  },
  {
   "cell_type": "code",
   "execution_count": 4,
   "id": "514d5606-d7fd-49bd-86ff-7f05047ae562",
   "metadata": {},
   "outputs": [
    {
     "data": {
      "text/plain": [
       "(60000, 512)"
      ]
     },
     "execution_count": 4,
     "metadata": {},
     "output_type": "execute_result"
    }
   ],
   "source": [
    "simple_ann_train_features.shape"
   ]
  },
  {
   "cell_type": "code",
   "execution_count": 5,
   "id": "a0bfac14-2c67-4e2c-96e5-007febb71e7a",
   "metadata": {},
   "outputs": [
    {
     "data": {
      "text/plain": [
       "(10000, 512)"
      ]
     },
     "execution_count": 5,
     "metadata": {},
     "output_type": "execute_result"
    }
   ],
   "source": [
    "simple_ann_test_features.shape"
   ]
  },
  {
   "cell_type": "code",
   "execution_count": 6,
   "id": "f342e557-9947-43d4-a37f-7762ac7537aa",
   "metadata": {},
   "outputs": [],
   "source": [
    "(_, y_train), (_, y_test) = mnist.load_data()"
   ]
  },
  {
   "cell_type": "code",
   "execution_count": 7,
   "id": "18946603-f016-4f53-a5a2-fafc066816bd",
   "metadata": {},
   "outputs": [],
   "source": [
    "y_train = tf.keras.utils.to_categorical(\n",
    "    y_train, dtype='float32'\n",
    ")"
   ]
  },
  {
   "cell_type": "code",
   "execution_count": 8,
   "id": "f0bd3c3f-517e-4a92-ad13-7d9d3190cc22",
   "metadata": {},
   "outputs": [],
   "source": [
    "y_test = tf.keras.utils.to_categorical(\n",
    "    y_test, dtype='float32'\n",
    ")"
   ]
  },
  {
   "cell_type": "code",
   "execution_count": 9,
   "id": "8afb4b4c-0ba5-4308-a515-0b12eb6c7664",
   "metadata": {},
   "outputs": [],
   "source": [
    "model = Sequential()\n",
    "\n",
    "model.add(Dense(512, input_shape=(512,)))\n",
    "model.add(Dropout(0.1))\n",
    "model.add(Dense(100, activation='relu'))\n",
    "model.add(Dropout(0.1))\n",
    "model.add(Dense(100, activation='relu'))\n",
    "model.add(Dropout(0.1))\n",
    "model.add(Dense(100, activation='relu'))\n",
    "model.add(Dropout(0.1))\n",
    "model.add(Dense(10, activation='softmax'))\n",
    "\n",
    "earlyStopping = EarlyStopping(monitor='val_loss', \n",
    "                              patience=32)\n",
    "\n",
    "model.compile(loss='categorical_crossentropy',\n",
    "              optimizer='adam', \n",
    "              metrics=['accuracy'])\n",
    "\n",
    "history = model.fit(simple_ann_train_features,\n",
    "                    y_train,\n",
    "                    epochs=250, \n",
    "                    batch_size=32, \n",
    "                    verbose=0, \n",
    "                    validation_split=0.2, \n",
    "                    callbacks=[earlyStopping])"
   ]
  },
  {
   "cell_type": "code",
   "execution_count": 10,
   "id": "10b4da43-2013-4133-8157-04cc9d3a3b5c",
   "metadata": {},
   "outputs": [
    {
     "data": {
      "text/plain": [
       "<matplotlib.legend.Legend at 0x7efb34481a20>"
      ]
     },
     "execution_count": 10,
     "metadata": {},
     "output_type": "execute_result"
    },
    {
     "data": {
      "image/png": "[encoded data removed]",
      "text/plain": [
       "<Figure size 432x288 with 1 Axes>"
      ]
     },
     "metadata": {
      "needs_background": "light"
     },
     "output_type": "display_data"
    }
   ],
   "source": [
    "plt.plot(history.history['loss'], label='train loss')\n",
    "plt.plot(history.history['val_loss'], label='validation loss')\n",
    "plt.legend()"
   ]
  },
  {
   "cell_type": "code",
   "execution_count": 12,
   "id": "1d5879d7-7e55-4488-99ce-f858c24eab7c",
   "metadata": {},
   "outputs": [
    {
     "name": "stdout",
     "output_type": "stream",
     "text": [
      "1875/1875 [==============================] - 2s 1ms/step - loss: 2.3012 - accuracy: 0.1124\n"
     ]
    }
   ],
   "source": [
    "test_results = model.evaluate(simple_ann_train_features, y_train, verbose=1)"
   ]
  },
  {
   "cell_type": "code",
   "execution_count": 16,
   "id": "06947784-d48f-4162-8151-557eb049d596",
   "metadata": {},
   "outputs": [],
   "source": [
    "predictions = model.predict(simple_ann_train_features)"
   ]
  },
  {
   "cell_type": "code",
   "execution_count": 17,
   "id": "1483959f-a46d-4467-9264-2851365364aa",
   "metadata": {},
   "outputs": [],
   "source": [
    "l = []\n",
    "for y, p in zip(y_test, predictions): \n",
    "    l.append(y - p)"
   ]
  },
  {
   "cell_type": "code",
   "execution_count": 18,
   "id": "1508e69c-9d08-4596-9fa0-ce12ba5a6631",
   "metadata": {},
   "outputs": [
    {
     "data": {
      "text/plain": [
       "(array([90000.,     0.,     0.,     0.,     0.,     0.,     0.,     0.,\n",
       "            0.,     0.,     0.,     0.,     0.,     0.,     0.,     0.,\n",
       "            0.,     0.,     0.,     0.,     0.,     0.,     0.,     0.,\n",
       "            0.,     0.,     0.,     0.,     0., 10000.]),\n",
       " array([-0.11275501, -0.07870329, -0.04465157, -0.01059985,  0.02345187,\n",
       "         0.05750358,  0.0915553 ,  0.12560703,  0.15965874,  0.19371046,\n",
       "         0.22776218,  0.2618139 ,  0.29586563,  0.32991734,  0.36396906,\n",
       "         0.39802077,  0.4320725 ,  0.4661242 ,  0.50017595,  0.53422767,\n",
       "         0.5682794 ,  0.6023311 ,  0.6363828 ,  0.67043453,  0.70448625,\n",
       "         0.73853797,  0.7725897 ,  0.8066414 ,  0.8406931 ,  0.87474483,\n",
       "         0.90879655], dtype=float32),\n",
       " <BarContainer object of 30 artists>)"
      ]
     },
     "execution_count": 18,
     "metadata": {},
     "output_type": "execute_result"
    },
    {
     "data": {
      "image/png": "[encoded data removed]",
      "text/plain": [
       "<Figure size 432x288 with 1 Axes>"
      ]
     },
     "metadata": {
      "needs_background": "light"
     },
     "output_type": "display_data"
    }
   ],
   "source": [
    "plt.hist(np.array(l).flatten(), bins=30)"
   ]
  },
  {
   "cell_type": "code",
   "execution_count": null,
   "id": "115042f1-ed2b-4dea-881b-2d590c2f818d",
   "metadata": {},
   "outputs": [],
   "source": []
  }
 ],
 "metadata": {
  "kernelspec": {
   "display_name": "Python 3",
   "language": "python",
   "name": "python3"
  },
  "language_info": {
   "codemirror_mode": {
    "name": "ipython",
    "version": 3
   },
   "file_extension": ".py",
   "mimetype": "text/x-python",
   "name": "python",
   "nbconvert_exporter": "python",
   "pygments_lexer": "ipython3",
   "version": "3.6.9"
  }
 },
 "nbformat": 4,
 "nbformat_minor": 5
}
