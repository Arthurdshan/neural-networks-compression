{
 "cells": [
  {
   "cell_type": "code",
   "execution_count": 1,
   "id": "87096742-bbfb-42ea-a8f1-c1fc0480341d",
   "metadata": {},
   "outputs": [],
   "source": [
    "import numpy as np\n",
    "import tensorflow as tf\n",
    "\n",
    "from keras.callbacks import EarlyStopping\n",
    "from keras.models import Sequential\n",
    "from keras.layers import Dense\n",
    "from keras.layers import Dropout\n",
    "from keras.datasets import mnist\n",
    "\n",
    "from sklearn.model_selection import train_test_split\n",
    "from sklearn.preprocessing import StandardScaler\n",
    "\n",
    "import matplotlib.pyplot as plt\n",
    "%matplotlib inline"
   ]
  },
  {
   "cell_type": "code",
   "execution_count": 2,
   "id": "b8a561f6-4b20-4380-8ed8-d5fef3ce34ef",
   "metadata": {},
   "outputs": [],
   "source": [
    "simple_ann_train_features = np.loadtxt('simple_ann_train_features.out', dtype='float32', delimiter=' ')"
   ]
  },
  {
   "cell_type": "code",
   "execution_count": 3,
   "id": "c0bb9c1e-ef61-405f-861d-aa53ab2c3d16",
   "metadata": {},
   "outputs": [],
   "source": [
    "simple_ann_test_features = np.loadtxt('simple_ann_test_features.out', dtype='float32', delimiter=' ')"
   ]
  },
  {
   "cell_type": "code",
   "execution_count": 4,
   "id": "514d5606-d7fd-49bd-86ff-7f05047ae562",
   "metadata": {},
   "outputs": [
    {
     "data": {
      "text/plain": [
       "(60000, 512)"
      ]
     },
     "execution_count": 4,
     "metadata": {},
     "output_type": "execute_result"
    }
   ],
   "source": [
    "simple_ann_train_features.shape"
   ]
  },
  {
   "cell_type": "code",
   "execution_count": 5,
   "id": "a0bfac14-2c67-4e2c-96e5-007febb71e7a",
   "metadata": {},
   "outputs": [
    {
     "data": {
      "text/plain": [
       "(10000, 512)"
      ]
     },
     "execution_count": 5,
     "metadata": {},
     "output_type": "execute_result"
    }
   ],
   "source": [
    "simple_ann_test_features.shape"
   ]
  },
  {
   "cell_type": "code",
   "execution_count": 6,
   "id": "f342e557-9947-43d4-a37f-7762ac7537aa",
   "metadata": {},
   "outputs": [],
   "source": [
    "(_, y_train), (_, y_test) = mnist.load_data()"
   ]
  },
  {
   "cell_type": "code",
   "execution_count": 7,
   "id": "18946603-f016-4f53-a5a2-fafc066816bd",
   "metadata": {},
   "outputs": [],
   "source": [
    "y_train = tf.keras.utils.to_categorical(\n",
    "    y_train, dtype='float32'\n",
    ")"
   ]
  },
  {
   "cell_type": "code",
   "execution_count": 8,
   "id": "f0bd3c3f-517e-4a92-ad13-7d9d3190cc22",
   "metadata": {},
   "outputs": [],
   "source": [
    "y_test = tf.keras.utils.to_categorical(\n",
    "    y_test, dtype='float32'\n",
    ")"
   ]
  },
  {
   "cell_type": "code",
   "execution_count": 15,
   "id": "8afb4b4c-0ba5-4308-a515-0b12eb6c7664",
   "metadata": {},
   "outputs": [],
   "source": [
    "model = Sequential()\n",
    "\n",
    "model.add(Dense(512, input_shape=(512,)))\n",
    "model.add(Dense(100, activation='relu'))\n",
    "model.add(Dense(100, activation='relu'))\n",
    "model.add(Dense(100, activation='relu'))\n",
    "model.add(Dense(10, activation='softmax'))\n",
    "\n",
    "earlyStopping = EarlyStopping(monitor='val_loss', \n",
    "                              patience=32)\n",
    "\n",
    "model.compile(loss='categorical_crossentropy',\n",
    "              optimizer='adam', \n",
    "              metrics=['accuracy'])\n",
    "\n",
    "history = model.fit(simple_ann_train_features,\n",
    "                    y_train,\n",
    "                    epochs=250, \n",
    "                    batch_size=1000, \n",
    "                    verbose=0, \n",
    "                    validation_split=0.2, \n",
    "                    callbacks=[earlyStopping])"
   ]
  },
  {
   "cell_type": "code",
   "execution_count": 16,
   "id": "10b4da43-2013-4133-8157-04cc9d3a3b5c",
   "metadata": {},
   "outputs": [
    {
     "data": {
      "text/plain": [
       "<matplotlib.legend.Legend at 0x7fb4c99c99e8>"
      ]
     },
     "execution_count": 16,
     "metadata": {},
     "output_type": "execute_result"
    },
    {
     "data": {
      "image/png": "[encoded data removed]",
      "text/plain": [
       "<Figure size 432x288 with 1 Axes>"
      ]
     },
     "metadata": {
      "needs_background": "light"
     },
     "output_type": "display_data"
    }
   ],
   "source": [
    "plt.plot(history.history['loss'], label='train loss')\n",
    "plt.plot(history.history['val_loss'], label='validation loss')\n",
    "plt.legend()"
   ]
  },
  {
   "cell_type": "code",
   "execution_count": 17,
   "id": "1d5879d7-7e55-4488-99ce-f858c24eab7c",
   "metadata": {},
   "outputs": [
    {
     "name": "stdout",
     "output_type": "stream",
     "text": [
      "1875/1875 [==============================] - 3s 1ms/step - loss: 0.6183 - accuracy: 0.8050\n"
     ]
    }
   ],
   "source": [
    "test_results = model.evaluate(simple_ann_train_features, y_train, verbose=1)"
   ]
  },
  {
   "cell_type": "code",
   "execution_count": 18,
   "id": "06947784-d48f-4162-8151-557eb049d596",
   "metadata": {},
   "outputs": [],
   "source": [
    "predictions = model.predict(simple_ann_train_features)"
   ]
  },
  {
   "cell_type": "code",
   "execution_count": 19,
   "id": "1483959f-a46d-4467-9264-2851365364aa",
   "metadata": {},
   "outputs": [],
   "source": [
    "l = []\n",
    "for y, p in zip(y_test, predictions): \n",
    "    l.append(y - p)"
   ]
  },
  {
   "cell_type": "code",
   "execution_count": 20,
   "id": "1508e69c-9d08-4596-9fa0-ce12ba5a6631",
   "metadata": {},
   "outputs": [
    {
     "data": {
      "text/plain": [
       "(array([2.8480e+03, 7.4700e+02, 6.1200e+02, 3.9600e+02, 1.1770e+03,\n",
       "        1.0500e+03, 9.8400e+02, 1.1260e+03, 8.7500e+02, 9.8400e+02,\n",
       "        1.1090e+03, 1.2700e+03, 1.6070e+03, 2.6260e+03, 7.2589e+04,\n",
       "        3.3500e+02, 8.0000e+01, 5.8000e+01, 2.9000e+01, 1.4500e+02,\n",
       "        1.1400e+02, 8.7000e+01, 1.4300e+02, 8.6000e+01, 1.0000e+02,\n",
       "        1.2800e+02, 1.3500e+02, 1.6700e+02, 2.7200e+02, 8.1210e+03]),\n",
       " array([-9.9882072e-01, -9.3219334e-01, -8.6556602e-01, -7.9893863e-01,\n",
       "        -7.3231131e-01, -6.6568393e-01, -5.9905660e-01, -5.3242922e-01,\n",
       "        -4.6580186e-01, -3.9917451e-01, -3.3254716e-01, -2.6591980e-01,\n",
       "        -1.9929244e-01, -1.3266508e-01, -6.6037722e-02,  5.8963895e-04,\n",
       "         6.7217000e-02,  1.3384436e-01,  2.0047171e-01,  2.6709908e-01,\n",
       "         3.3372644e-01,  4.0035379e-01,  4.6698114e-01,  5.3360850e-01,\n",
       "         6.0023588e-01,  6.6686320e-01,  7.3349059e-01,  8.0011791e-01,\n",
       "         8.6674529e-01,  9.3337262e-01,  1.0000000e+00], dtype=float32),\n",
       " <BarContainer object of 30 artists>)"
      ]
     },
     "execution_count": 20,
     "metadata": {},
     "output_type": "execute_result"
    },
    {
     "data": {
      "image/png": "[encoded data removed]",
      "text/plain": [
       "<Figure size 432x288 with 1 Axes>"
      ]
     },
     "metadata": {
      "needs_background": "light"
     },
     "output_type": "display_data"
    }
   ],
   "source": [
    "plt.hist(np.array(l).flatten(), bins=30)"
   ]
  },
  {
   "cell_type": "code",
   "execution_count": null,
   "id": "115042f1-ed2b-4dea-881b-2d590c2f818d",
   "metadata": {},
   "outputs": [],
   "source": []
  }
 ],
 "metadata": {
  "kernelspec": {
   "display_name": "Python 3",
   "language": "python",
   "name": "python3"
  },
  "language_info": {
   "codemirror_mode": {
    "name": "ipython",
    "version": 3
   },
   "file_extension": ".py",
   "mimetype": "text/x-python",
   "name": "python",
   "nbconvert_exporter": "python",
   "pygments_lexer": "ipython3",
   "version": "3.6.9"
  }
 },
 "nbformat": 4,
 "nbformat_minor": 5
}
