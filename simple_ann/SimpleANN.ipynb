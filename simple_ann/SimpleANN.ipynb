{
 "cells": [
  {
   "cell_type": "code",
   "execution_count": 10,
   "id": "bdfc1a70-af4b-47c6-b2fa-b019a5af5bf6",
   "metadata": {},
   "outputs": [],
   "source": [
    "import pandas as pd \n",
    "import numpy as np\n",
    "\n",
    "from keras.callbacks import EarlyStopping\n",
    "from keras.models import Sequential\n",
    "from keras.layers import Dense\n",
    "from keras.datasets import mnist\n",
    "\n",
    "from tqdm import tqdm\n",
    "from keras.applications.vgg16 import preprocess_input\n",
    "\n",
    "from sklearn.model_selection import train_test_split\n",
    "\n",
    "import matplotlib.pyplot as plt\n",
    "%matplotlib inline"
   ]
  },
  {
   "cell_type": "code",
   "execution_count": 11,
   "id": "44c4f239-8efd-484d-898c-3a4376f5eda8",
   "metadata": {},
   "outputs": [],
   "source": [
    "def add_padding(dataset=None, pad_width = 0, constant_values=0):\n",
    "    padded_dataset = []\n",
    "    \n",
    "    for i in dataset:\n",
    "        padded = np.pad(i, pad_width=pad_width, mode='constant', constant_values=constant_values)\n",
    "        padded_dataset.append(padded[:, :, np.newaxis])\n",
    "    \n",
    "    return padded_dataset\n",
    "\n",
    "# how to use the preprocess input ? \n",
    "def preprocess2(dataset, dimension):\n",
    "    new_set = []\n",
    "    \n",
    "    for x in dataset:\n",
    "        p = np.repeat(x, 3, axis=-1)\n",
    "        p = preprocess_input(p)\n",
    "        \n",
    "        new_set.append(p)\n",
    "    \n",
    "    new_set = np.array(new_set)\n",
    "    \n",
    "    new_set = new_set.reshape(new_set.shape[0], dimension, -1)\n",
    "    new_set = new_set.astype('float32')\n",
    "        \n",
    "    return new_set\n",
    "\n",
    "def preprocess(dataset, dimension):\n",
    "    new_dataset = dataset.reshape(dataset.shape[0], dimension)\n",
    "    new_dataset = new_dataset.astype('float32')\n",
    "        \n",
    "    return new_dataset\n",
    "\n",
    "def write_matrix_to_file(matrix=None, file_name=\"random.txt\"):\n",
    "    with open(file_name, 'wb') as f:\n",
    "        for line in matrix:\n",
    "            np.savetxt(f, line, delimiter=' ')"
   ]
  },
  {
   "cell_type": "code",
   "execution_count": 12,
   "id": "eb18a985-c7da-4397-981c-3c5dbefede3c",
   "metadata": {},
   "outputs": [],
   "source": [
    "(x_train, y_train), (x_test, y_test) = mnist.load_data()\n",
    "\n",
    "new_x_train = add_padding(x_train, pad_width=2, constant_values=0)\n",
    "new_x_test = add_padding(x_test, pad_width=2, constant_values=0)"
   ]
  },
  {
   "cell_type": "code",
   "execution_count": 13,
   "id": "f6543e9f-a19f-4bb3-a7e4-a10ae34d75b0",
   "metadata": {},
   "outputs": [],
   "source": [
    "new_x_train = np.asarray(new_x_train)\n",
    "new_x_test = np.asarray(new_x_test)\n",
    "\n",
    "dim_data = np.prod(new_x_train.shape[1:])\n",
    "\n",
    "new_x_train = preprocess(new_x_train, dim_data)\n",
    "new_x_test = preprocess(new_x_test, dim_data)"
   ]
  },
  {
   "cell_type": "code",
   "execution_count": null,
   "id": "b7511c45-9448-45df-b390-6e8416b2de87",
   "metadata": {},
   "outputs": [],
   "source": [
    "model = Sequential()\n",
    "\n",
    "model.add(Dense(1024, input_shape=(dim_data,)))\n",
    "\n",
    "model.add(Dense(100, activation='relu'))\n",
    "model.add(Dense(100, activation='relu'))\n",
    "model.add(Dense(100, activation='relu'))\n",
    "\n",
    "model.add(Dense(512, activation='relu'))\n",
    "\n",
    "model.compile(loss='mse', \n",
    "              optimizer='adam', \n",
    "              metrics=['mse'])\n",
    "\n",
    "earlyStopping = EarlyStopping(monitor='val_loss', \n",
    "                              patience=25)\n",
    "\n",
    "history = model.fit(new_x_train,\n",
    "                    y_train,\n",
    "                    epochs=250, \n",
    "                    batch_size=1000, \n",
    "                    verbose=0, \n",
    "                    validation_split=0.2, \n",
    "                    callbacks=[earlyStopping])"
   ]
  },
  {
   "cell_type": "code",
   "execution_count": null,
   "id": "40fae01d-8566-4805-86f6-3022821f8675",
   "metadata": {},
   "outputs": [],
   "source": [
    "model.summary()"
   ]
  },
  {
   "cell_type": "code",
   "execution_count": null,
   "id": "5857c2bc-3c1c-4ea5-90ab-f9ed1f00aa23",
   "metadata": {},
   "outputs": [],
   "source": [
    "plt.plot(history.history['loss'], label='train loss')\n",
    "plt.plot(history.history['val_loss'], label='validation loss')\n",
    "plt.legend()"
   ]
  },
  {
   "cell_type": "code",
   "execution_count": null,
   "id": "44ebe5b0-ad2a-4107-a844-4e038a7cf409",
   "metadata": {},
   "outputs": [],
   "source": [
    "test_results = model.evaluate(new_x_train, y_train, verbose=1)"
   ]
  },
  {
   "cell_type": "code",
   "execution_count": null,
   "id": "4edb4e33-02c4-47fd-b0a0-b97034a38cf6",
   "metadata": {},
   "outputs": [],
   "source": [
    "train_features = model.predict(new_x_train)"
   ]
  },
  {
   "cell_type": "code",
   "execution_count": null,
   "id": "5204ee31-91e5-4439-bbd5-d0d80610efb4",
   "metadata": {},
   "outputs": [],
   "source": [
    "test_features = model.predict(new_x_test)"
   ]
  },
  {
   "cell_type": "code",
   "execution_count": null,
   "id": "3c276713-6771-4147-9946-88b06fc9bdea",
   "metadata": {},
   "outputs": [],
   "source": [
    "train_features = np.matrix(train_features)\n",
    "write_matrix_to_file(train_features, file_name=\"simple_ann_train_features.out\")"
   ]
  },
  {
   "cell_type": "code",
   "execution_count": null,
   "id": "0a867e92-6bd2-478e-9e88-b4a23ddae90e",
   "metadata": {},
   "outputs": [],
   "source": [
    "test_features = np.matrix(test_features)\n",
    "write_matrix_to_file(test_features, file_name=\"simple_ann_test_features.out\")"
   ]
  },
  {
   "cell_type": "code",
   "execution_count": null,
   "id": "eef45907-826f-4ad7-8bd5-8ee0e18317ed",
   "metadata": {},
   "outputs": [],
   "source": []
  }
 ],
 "metadata": {
  "kernelspec": {
   "display_name": "Python 3",
   "language": "python",
   "name": "python3"
  },
  "language_info": {
   "codemirror_mode": {
    "name": "ipython",
    "version": 3
   },
   "file_extension": ".py",
   "mimetype": "text/x-python",
   "name": "python",
   "nbconvert_exporter": "python",
   "pygments_lexer": "ipython3",
   "version": "3.6.9"
  }
 },
 "nbformat": 4,
 "nbformat_minor": 5
}
