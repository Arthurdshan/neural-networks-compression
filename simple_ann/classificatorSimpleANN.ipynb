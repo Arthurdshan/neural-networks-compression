{
 "cells": [
  {
   "cell_type": "code",
   "execution_count": 1,
   "id": "87096742-bbfb-42ea-a8f1-c1fc0480341d",
   "metadata": {},
   "outputs": [],
   "source": [
    "import numpy as np\n",
    "import tensorflow as tf\n",
    "\n",
    "from keras.callbacks import EarlyStopping\n",
    "from keras.models import Sequential\n",
    "from keras.layers import Dense\n",
    "from keras.layers import Dropout\n",
    "from keras.datasets import mnist\n",
    "\n",
    "from sklearn.model_selection import train_test_split\n",
    "from sklearn.preprocessing import StandardScaler\n",
    "\n",
    "import matplotlib.pyplot as plt\n",
    "%matplotlib inline"
   ]
  },
  {
   "cell_type": "markdown",
   "id": "72c2af99-bb53-4c20-a5bf-af7d7f68f421",
   "metadata": {},
   "source": [
    "## Extracting the labels\n",
    "\n",
    "This is for general use in every classification."
   ]
  },
  {
   "cell_type": "code",
   "execution_count": 2,
   "id": "0d9dbc62-9921-4c35-a23e-5a07ee1d8689",
   "metadata": {},
   "outputs": [],
   "source": [
    "(_, y_train), (_, y_test) = mnist.load_data()"
   ]
  },
  {
   "cell_type": "code",
   "execution_count": 3,
   "id": "87507f88-89d9-43d9-8847-59812a7dc35c",
   "metadata": {},
   "outputs": [],
   "source": [
    "y_train = tf.keras.utils.to_categorical(\n",
    "    y_train, dtype='float32'\n",
    ")"
   ]
  },
  {
   "cell_type": "code",
   "execution_count": 4,
   "id": "61e18c15-1508-4a76-bf25-7315e4e2d42f",
   "metadata": {},
   "outputs": [],
   "source": [
    "y_test = tf.keras.utils.to_categorical(\n",
    "    y_test, dtype='float32'\n",
    ")"
   ]
  },
  {
   "cell_type": "markdown",
   "id": "7d204116-5bbd-4a41-a843-4ca1c25af6d7",
   "metadata": {},
   "source": [
    "## NO-FIT ANN Features\n",
    "Loading the features extractes from a ANN that ran without the usage of the fit function"
   ]
  },
  {
   "cell_type": "code",
   "execution_count": 5,
   "id": "b8a561f6-4b20-4380-8ed8-d5fef3ce34ef",
   "metadata": {},
   "outputs": [],
   "source": [
    "simple_ann_train_features_nofit = np.loadtxt('simple_ann_train_features_nofit.out', dtype='float32', delimiter=' ')"
   ]
  },
  {
   "cell_type": "code",
   "execution_count": 6,
   "id": "c0bb9c1e-ef61-405f-861d-aa53ab2c3d16",
   "metadata": {},
   "outputs": [],
   "source": [
    "simple_ann_test_features_nofit = np.loadtxt('simple_ann_test_features_nofit.out', dtype='float32', delimiter=' ')"
   ]
  },
  {
   "cell_type": "code",
   "execution_count": 7,
   "id": "278909c1-daaa-4f4b-903b-c13146da03ed",
   "metadata": {},
   "outputs": [
    {
     "data": {
      "text/plain": [
       "(60000, 512)"
      ]
     },
     "execution_count": 7,
     "metadata": {},
     "output_type": "execute_result"
    }
   ],
   "source": [
    "simple_ann_train_features_nofit.shape"
   ]
  },
  {
   "cell_type": "code",
   "execution_count": 7,
   "id": "8afb4b4c-0ba5-4308-a515-0b12eb6c7664",
   "metadata": {},
   "outputs": [],
   "source": [
    "model = Sequential()\n",
    "\n",
    "model.add(Dense(512, input_shape=(512,)))\n",
    "model.add(Dense(100, activation='relu'))\n",
    "model.add(Dense(100, activation='relu'))\n",
    "model.add(Dense(100, activation='relu'))\n",
    "model.add(Dense(10, activation='softmax'))\n",
    "\n",
    "earlyStopping = EarlyStopping(monitor='val_loss',\n",
    "                              patience=32)\n",
    "\n",
    "model.compile(loss='categorical_crossentropy',\n",
    "              optimizer='adam', \n",
    "              metrics=['accuracy'])\n",
    "\n",
    "history = model.fit(simple_ann_train_features_nofit,\n",
    "                    y_train,\n",
    "                    epochs=250, \n",
    "                    batch_size=1000, \n",
    "                    verbose=0, \n",
    "                    validation_split=0.2, \n",
    "                    callbacks=[earlyStopping])"
   ]
  },
  {
   "cell_type": "code",
   "execution_count": 8,
   "id": "10b4da43-2013-4133-8157-04cc9d3a3b5c",
   "metadata": {},
   "outputs": [
    {
     "data": {
      "text/plain": [
       "<matplotlib.legend.Legend at 0x7f5f5ba122b0>"
      ]
     },
     "execution_count": 8,
     "metadata": {},
     "output_type": "execute_result"
    },
    {
     "data": {
      "image/png": "[encoded data removed]",
      "text/plain": [
       "<Figure size 432x288 with 1 Axes>"
      ]
     },
     "metadata": {
      "needs_background": "light"
     },
     "output_type": "display_data"
    }
   ],
   "source": [
    "plt.plot(history.history['loss'], label='train loss')\n",
    "plt.plot(history.history['val_loss'], label='validation loss')\n",
    "plt.legend()"
   ]
  },
  {
   "cell_type": "code",
   "execution_count": 9,
   "id": "1d5879d7-7e55-4488-99ce-f858c24eab7c",
   "metadata": {},
   "outputs": [
    {
     "name": "stdout",
     "output_type": "stream",
     "text": [
      "313/313 [==============================] - 1s 1ms/step - loss: 0.5464 - accuracy: 0.8614\n"
     ]
    }
   ],
   "source": [
    "test_results = model.evaluate(simple_ann_test_features_nofit, y_test, verbose=1)"
   ]
  },
  {
   "cell_type": "code",
   "execution_count": 10,
   "id": "06947784-d48f-4162-8151-557eb049d596",
   "metadata": {},
   "outputs": [],
   "source": [
    "predictions = model.predict(simple_ann_test_features_nofit)"
   ]
  },
  {
   "cell_type": "code",
   "execution_count": 11,
   "id": "1483959f-a46d-4467-9264-2851365364aa",
   "metadata": {},
   "outputs": [],
   "source": [
    "l = []\n",
    "for y, p in zip(y_test, predictions): \n",
    "    l.append(y - p)"
   ]
  },
  {
   "cell_type": "code",
   "execution_count": 12,
   "id": "1508e69c-9d08-4596-9fa0-ce12ba5a6631",
   "metadata": {},
   "outputs": [
    {
     "data": {
      "text/plain": [
       "(array([3.1700e+02, 1.6300e+02, 1.5700e+02, 1.1900e+02, 1.3100e+02,\n",
       "        1.1700e+02, 1.3800e+02, 1.3000e+02, 1.7600e+02, 1.9700e+02,\n",
       "        2.5600e+02, 2.8800e+02, 4.8600e+02, 9.4700e+02, 8.6378e+04,\n",
       "        7.2800e+03, 4.2000e+02, 2.4000e+02, 1.5600e+02, 1.5100e+02,\n",
       "        1.2600e+02, 1.1300e+02, 9.5000e+01, 8.3000e+01, 8.6000e+01,\n",
       "        1.2500e+02, 1.0800e+02, 1.3800e+02, 1.9500e+02, 6.8400e+02]),\n",
       " array([-1.        , -0.93333334, -0.8666667 , -0.8       , -0.73333335,\n",
       "        -0.6666667 , -0.6       , -0.53333336, -0.46666667, -0.4       ,\n",
       "        -0.33333334, -0.26666668, -0.2       , -0.13333334, -0.06666667,\n",
       "         0.        ,  0.06666667,  0.13333334,  0.2       ,  0.26666668,\n",
       "         0.33333334,  0.4       ,  0.46666667,  0.53333336,  0.6       ,\n",
       "         0.6666667 ,  0.73333335,  0.8       ,  0.8666667 ,  0.93333334,\n",
       "         1.        ], dtype=float32),\n",
       " <BarContainer object of 30 artists>)"
      ]
     },
     "execution_count": 12,
     "metadata": {},
     "output_type": "execute_result"
    },
    {
     "data": {
      "image/png": "[encoded data removed]",
      "text/plain": [
       "<Figure size 432x288 with 1 Axes>"
      ]
     },
     "metadata": {
      "needs_background": "light"
     },
     "output_type": "display_data"
    }
   ],
   "source": [
    "plt.hist(np.array(l).flatten(), bins=30)"
   ]
  },
  {
   "cell_type": "markdown",
   "id": "7f7dbc4c-edd8-4873-8233-b96763746b60",
   "metadata": {},
   "source": [
    "## Trained ANN features"
   ]
  },
  {
   "cell_type": "code",
   "execution_count": null,
   "id": "4c9f59a1-2198-4e65-b9cf-c5ecb8fba1ff",
   "metadata": {},
   "outputs": [],
   "source": []
  }
 ],
 "metadata": {
  "kernelspec": {
   "display_name": "Python 3",
   "language": "python",
   "name": "python3"
  },
  "language_info": {
   "codemirror_mode": {
    "name": "ipython",
    "version": 3
   },
   "file_extension": ".py",
   "mimetype": "text/x-python",
   "name": "python",
   "nbconvert_exporter": "python",
   "pygments_lexer": "ipython3",
   "version": "3.6.9"
  }
 },
 "nbformat": 4,
 "nbformat_minor": 5
}
