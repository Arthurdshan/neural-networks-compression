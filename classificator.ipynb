{
 "cells": [
  {
   "cell_type": "code",
   "execution_count": 2,
   "id": "0132ff99-36b4-4e43-8a4c-e890a2e38428",
   "metadata": {},
   "outputs": [],
   "source": [
    "import numpy as np\n",
    "\n",
    "from keras.callbacks import EarlyStopping\n",
    "from keras.models import Sequential\n",
    "from keras.layers import Dense\n",
    "from keras.layers import Dropout\n",
    "from keras.datasets import mnist\n",
    "\n",
    "from sklearn.model_selection import train_test_split\n",
    "from sklearn.preprocessing import StandardScaler\n",
    "\n",
    "import matplotlib.pyplot as plt\n",
    "%matplotlib inline"
   ]
  },
  {
   "cell_type": "markdown",
   "id": "8212d53a-dc3f-4693-882c-63d46ad445dc",
   "metadata": {},
   "source": [
    "Loading the VGG16 features and the mnist dataset"
   ]
  },
  {
   "cell_type": "code",
   "execution_count": 3,
   "id": "23b8b6ba-03f9-4478-b1bb-0605669a7848",
   "metadata": {},
   "outputs": [],
   "source": [
    "vgg16_features = np.loadtxt(\"vgg16.out\", dtype='float32', delimiter=' ')"
   ]
  },
  {
   "cell_type": "code",
   "execution_count": 4,
   "id": "2890e524-0d73-4951-af0d-86b3c73f96c9",
   "metadata": {},
   "outputs": [],
   "source": [
    "# rede_bem_simples = np.loadtxt(...)"
   ]
  },
  {
   "cell_type": "code",
   "execution_count": 9,
   "id": "879b324d-579e-4258-b982-d52dac6334d8",
   "metadata": {},
   "outputs": [],
   "source": [
    "(x_train, y_train), (x_test, y_test) = mnist.load_data()\n",
    "\n",
    "new_x_train = []\n",
    "new_x_test = []\n",
    "\n",
    "for x in x_train:\n",
    "    x_padded = np.pad(x, pad_width=2, mode='constant', constant_values=0)\n",
    "    new_x_train.append(x_padded[:, :, np.newaxis])\n",
    "    \n",
    "for x in x_test:\n",
    "    x_padded = np.pad(x, pad_width=2, mode='constant', constant_values=0)\n",
    "    new_x_test.append(x_padded[:, :, np.newaxis])"
   ]
  },
  {
   "cell_type": "markdown",
   "id": "a827f3c0-4534-4199-9c46-1a6b0833bf3c",
   "metadata": {},
   "source": [
    "Creating the regression model"
   ]
  },
  {
   "cell_type": "code",
   "execution_count": null,
   "id": "6b4f28f5-9d8f-4e49-a515-a02537b4bab4",
   "metadata": {},
   "outputs": [],
   "source": [
    "model = Sequential()\n",
    "\n",
    "model.add(Dense(512, input_shape=(512,)))\n",
    "model.add(Dropout(0.05))\n",
    "model.add(Dense(100, activation='relu'))\n",
    "model.add(Dropout(0.05))\n",
    "model.add(Dense(200, activation='relu'))\n",
    "model.add(Dropout(0.05))\n",
    "model.add(Dense(300, activation='relu'))\n",
    "model.add(Dropout(0.05))\n",
    "model.add(Dense(10, activation='linear'))\n",
    "\n",
    "earlyStopping = EarlyStopping(monitor='val_loss', \n",
    "                              patience=32)\n",
    "\n",
    "model.compile(loss='mse',\n",
    "              optimizer='adam', \n",
    "              metrics=['mse'])\n",
    "\n",
    "history = model.fit(vgg16_features,\n",
    "                    y_train,\n",
    "                    epochs=250, \n",
    "                    batch_size=32, \n",
    "                    verbose=0, \n",
    "                    validation_split=0.2, \n",
    "                    callbacks=[earlyStopping])"
   ]
  },
  {
   "cell_type": "code",
   "execution_count": null,
   "id": "b7fd454d-6cf6-4d7b-baa6-e585afa6f095",
   "metadata": {},
   "outputs": [],
   "source": [
    "plt.plot(history.history['loss'], label='train loss')\n",
    "plt.plot(history.history['val_loss'], label='validation loss')\n",
    "plt.legend()"
   ]
  },
  {
   "cell_type": "code",
   "execution_count": null,
   "id": "83fd3a9c-bca0-408d-b4c0-8031551bf25d",
   "metadata": {},
   "outputs": [],
   "source": [
    "test_results = model.evaluate(x_test, y_test, verbose=1)"
   ]
  },
  {
   "cell_type": "code",
   "execution_count": null,
   "id": "a329ad37-d40b-4ccc-9246-b5cd6c95be4c",
   "metadata": {},
   "outputs": [],
   "source": [
    "predictions = model.predict(x_test)"
   ]
  },
  {
   "cell_type": "code",
   "execution_count": null,
   "id": "1aef9a74-9c47-4f91-84d2-404cbd4e55ec",
   "metadata": {},
   "outputs": [],
   "source": [
    "l = []\n",
    "for y, p in zip(y_test, predictions): \n",
    "    l.append(y - p)"
   ]
  },
  {
   "cell_type": "code",
   "execution_count": null,
   "id": "daac236d-1c84-4740-b299-530bcf7e9f6a",
   "metadata": {},
   "outputs": [],
   "source": [
    "plt.hist(np.array(l).flatten(), bins=30)"
   ]
  }
 ],
 "metadata": {
  "kernelspec": {
   "display_name": "Python 3 (ipykernel)",
   "language": "python",
   "name": "python3"
  },
  "language_info": {
   "codemirror_mode": {
    "name": "ipython",
    "version": 3
   },
   "file_extension": ".py",
   "mimetype": "text/x-python",
   "name": "python",
   "nbconvert_exporter": "python",
   "pygments_lexer": "ipython3",
   "version": "3.9.7"
  }
 },
 "nbformat": 4,
 "nbformat_minor": 5
}
