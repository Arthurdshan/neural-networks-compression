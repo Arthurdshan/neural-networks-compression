{
 "cells": [
  {
   "cell_type": "code",
   "execution_count": 1,
   "id": "a264fe5c-6e5f-4f64-a1ee-8136f73d48ca",
   "metadata": {},
   "outputs": [],
   "source": [
    "import pandas as pd \n",
    "import numpy as np\n",
    "\n",
    "from time import sleep\n",
    "from tqdm import tqdm\n",
    "\n",
    "from keras.callbacks import EarlyStopping\n",
    "from keras.models import Sequential\n",
    "from keras.layers import Dense\n",
    "from keras.layers import Dropout\n",
    "from keras.datasets import mnist\n",
    "\n",
    "from sklearn.model_selection import train_test_split\n",
    "from sklearn.preprocessing import StandardScaler\n",
    "\n",
    "from keras.applications.vgg16 import preprocess_input\n",
    "from keras.applications.vgg16 import VGG16\n",
    "\n",
    "import matplotlib.pyplot as plt\n",
    "%matplotlib inline"
   ]
  },
  {
   "cell_type": "code",
   "execution_count": 2,
   "id": "65dd27e5-880e-4099-af09-90955a1a8c63",
   "metadata": {},
   "outputs": [],
   "source": [
    "def add_padding(dataset=None, pad_width = 0, constant_values=0) -> []:\n",
    "    padded_dataset = []\n",
    "    \n",
    "    for i in dataset:\n",
    "        padded = np.pad(i, pad_width=pad_width, mode='constant', constant_values=constant_values)\n",
    "        padded_dataset.append(padded[:, :, np.newaxis])\n",
    "    \n",
    "    return padded_dataset\n",
    "\n",
    "def extract_features(dataset):\n",
    "    features = []\n",
    "\n",
    "    for x in tqdm(dataset):\n",
    "        p = np.repeat(x, 3, axis=-1)\n",
    "        p = preprocess_input(p)\n",
    "        predict = np.expand_dims(p, axis=0)\n",
    "        predict = model.predict(predict)\n",
    "        features.append(predict[0][0][0])\n",
    "    \n",
    "    return features\n",
    "    \n",
    "def write_matrix_to_file(matrix=None, file_name=\"random.txt\"):\n",
    "    with open(file_name, 'wb') as f:\n",
    "        for line in matrix:\n",
    "            np.savetxt(f, line, delimiter=' ')"
   ]
  },
  {
   "cell_type": "code",
   "execution_count": 3,
   "id": "6453fcdc-9f4a-456d-98df-0413a26b7dc5",
   "metadata": {},
   "outputs": [],
   "source": [
    "(x_train, y_train), (x_test, y_test) = mnist.load_data()\n",
    "\n",
    "new_x_train = add_padding(x_train, pad_width=2, constant_values=0)\n",
    "new_x_test = add_padding(x_test, pad_width=2, constant_values=0)"
   ]
  },
  {
   "cell_type": "code",
   "execution_count": 4,
   "id": "03ecf1eb-8a1d-4675-87ad-668a5e9a643b",
   "metadata": {},
   "outputs": [],
   "source": [
    "model = VGG16(include_top=False, weights='imagenet', input_shape=(32, 32, 3))"
   ]
  },
  {
   "cell_type": "code",
   "execution_count": 5,
   "id": "6e03f155-b9fa-4805-83bf-78e7390cec26",
   "metadata": {},
   "outputs": [
    {
     "name": "stdout",
     "output_type": "stream",
     "text": [
      "Model: \"vgg16\"\n",
      "_________________________________________________________________\n",
      "Layer (type)                 Output Shape              Param #   \n",
      "=================================================================\n",
      "input_1 (InputLayer)         [(None, 32, 32, 3)]       0         \n",
      "_________________________________________________________________\n",
      "block1_conv1 (Conv2D)        (None, 32, 32, 64)        1792      \n",
      "_________________________________________________________________\n",
      "block1_conv2 (Conv2D)        (None, 32, 32, 64)        36928     \n",
      "_________________________________________________________________\n",
      "block1_pool (MaxPooling2D)   (None, 16, 16, 64)        0         \n",
      "_________________________________________________________________\n",
      "block2_conv1 (Conv2D)        (None, 16, 16, 128)       73856     \n",
      "_________________________________________________________________\n",
      "block2_conv2 (Conv2D)        (None, 16, 16, 128)       147584    \n",
      "_________________________________________________________________\n",
      "block2_pool (MaxPooling2D)   (None, 8, 8, 128)         0         \n",
      "_________________________________________________________________\n",
      "block3_conv1 (Conv2D)        (None, 8, 8, 256)         295168    \n",
      "_________________________________________________________________\n",
      "block3_conv2 (Conv2D)        (None, 8, 8, 256)         590080    \n",
      "_________________________________________________________________\n",
      "block3_conv3 (Conv2D)        (None, 8, 8, 256)         590080    \n",
      "_________________________________________________________________\n",
      "block3_pool (MaxPooling2D)   (None, 4, 4, 256)         0         \n",
      "_________________________________________________________________\n",
      "block4_conv1 (Conv2D)        (None, 4, 4, 512)         1180160   \n",
      "_________________________________________________________________\n",
      "block4_conv2 (Conv2D)        (None, 4, 4, 512)         2359808   \n",
      "_________________________________________________________________\n",
      "block4_conv3 (Conv2D)        (None, 4, 4, 512)         2359808   \n",
      "_________________________________________________________________\n",
      "block4_pool (MaxPooling2D)   (None, 2, 2, 512)         0         \n",
      "_________________________________________________________________\n",
      "block5_conv1 (Conv2D)        (None, 2, 2, 512)         2359808   \n",
      "_________________________________________________________________\n",
      "block5_conv2 (Conv2D)        (None, 2, 2, 512)         2359808   \n",
      "_________________________________________________________________\n",
      "block5_conv3 (Conv2D)        (None, 2, 2, 512)         2359808   \n",
      "_________________________________________________________________\n",
      "block5_pool (MaxPooling2D)   (None, 1, 1, 512)         0         \n",
      "=================================================================\n",
      "Total params: 14,714,688\n",
      "Trainable params: 14,714,688\n",
      "Non-trainable params: 0\n",
      "_________________________________________________________________\n"
     ]
    }
   ],
   "source": [
    "model.summary()"
   ]
  },
  {
   "cell_type": "code",
   "execution_count": 5,
   "id": "4387fada-368a-4cc6-b92a-935e82d04024",
   "metadata": {},
   "outputs": [
    {
     "name": "stderr",
     "output_type": "stream",
     "text": [
      "100%|██████████| 60000/60000 [29:52<00:00, 33.47it/s]\n"
     ]
    }
   ],
   "source": [
    "train_features = extract_features(new_x_train)"
   ]
  },
  {
   "cell_type": "code",
   "execution_count": 6,
   "id": "735c844f-36f4-4bcd-b756-ce311f7b679f",
   "metadata": {},
   "outputs": [
    {
     "name": "stderr",
     "output_type": "stream",
     "text": [
      "100%|██████████| 10000/10000 [05:04<00:00, 32.87it/s]\n"
     ]
    }
   ],
   "source": [
    "test_features = extract_features(new_x_test)"
   ]
  },
  {
   "cell_type": "code",
   "execution_count": 7,
   "id": "f6707d39-23d1-4fe9-ad89-10787e4965ec",
   "metadata": {},
   "outputs": [],
   "source": [
    "train_features = np.matrix(train_features)\n",
    "write_matrix_to_file(train_features, file_name=\"vgg16_train_features.out\")"
   ]
  },
  {
   "cell_type": "code",
   "execution_count": 8,
   "id": "e2a4d523-b4d8-465c-9021-8adb574dfcab",
   "metadata": {},
   "outputs": [],
   "source": [
    "test_features = np.matrix(test_features)\n",
    "write_matrix_to_file(test_features, file_name=\"vgg16_test_features.out\")"
   ]
  },
  {
   "cell_type": "code",
   "execution_count": null,
   "id": "94cea360-50e2-46b9-a1ea-2632f5ceed00",
   "metadata": {},
   "outputs": [],
   "source": []
  }
 ],
 "metadata": {
  "kernelspec": {
   "display_name": "Python 3",
   "language": "python",
   "name": "python3"
  },
  "language_info": {
   "codemirror_mode": {
    "name": "ipython",
    "version": 3
   },
   "file_extension": ".py",
   "mimetype": "text/x-python",
   "name": "python",
   "nbconvert_exporter": "python",
   "pygments_lexer": "ipython3",
   "version": "3.6.9"
  }
 },
 "nbformat": 4,
 "nbformat_minor": 5
}
