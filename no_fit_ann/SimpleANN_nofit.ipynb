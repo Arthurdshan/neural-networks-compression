{
 "cells": [
  {
   "cell_type": "code",
   "execution_count": 1,
   "id": "4860cc79-430f-4e98-ae08-7c6e59281af9",
   "metadata": {},
   "outputs": [],
   "source": [
    "import pandas as pd \n",
    "import numpy as np\n",
    "\n",
    "from keras.models import Sequential\n",
    "from keras.layers import Dense\n",
    "from keras.datasets import mnist\n",
    "from keras.applications.vgg16 import preprocess_input\n",
    "\n",
    "from sklearn.model_selection import train_test_split\n",
    "\n",
    "import matplotlib.pyplot as plt\n",
    "%matplotlib inline"
   ]
  },
  {
   "cell_type": "code",
   "execution_count": 2,
   "id": "529f83f5-fd51-4057-a516-a565b6cc302a",
   "metadata": {},
   "outputs": [],
   "source": [
    "def add_padding(dataset=None, pad_width = 0, constant_values=0):\n",
    "    padded_dataset = []\n",
    "    \n",
    "    for i in dataset:\n",
    "        padded = np.pad(i, pad_width=pad_width, mode='constant', constant_values=constant_values)\n",
    "        padded_dataset.append(padded[:, :, np.newaxis])\n",
    "    \n",
    "    return padded_dataset\n",
    "\n",
    "def preprocess(dataset, dimension):\n",
    "    new_dataset = dataset.reshape(dataset.shape[0], dimension)\n",
    "    new_dataset = new_dataset.astype('float32')\n",
    "        \n",
    "    return new_dataset\n",
    "\n",
    "def write_matrix_to_file(matrix=None, file_name=\"random.txt\"):\n",
    "    with open(file_name, 'wb') as f:\n",
    "        for line in matrix:\n",
    "            np.savetxt(f, line, delimiter=' ')"
   ]
  },
  {
   "cell_type": "code",
   "execution_count": 3,
   "id": "2dd15049-b8a9-48fb-9597-048c351a335f",
   "metadata": {},
   "outputs": [],
   "source": [
    "(x_train, y_train), (x_test, y_test) = mnist.load_data()\n",
    "\n",
    "new_x_train = add_padding(x_train, pad_width=2, constant_values=0)\n",
    "new_x_test = add_padding(x_test, pad_width=2, constant_values=0)\n",
    "\n",
    "new_x_train = np.asarray(new_x_train)\n",
    "new_x_test = np.asarray(new_x_test)\n",
    "\n",
    "dim_data = np.prod(new_x_train.shape[1:])\n",
    "\n",
    "new_x_train = preprocess(new_x_train, dim_data)\n",
    "new_x_test = preprocess(new_x_test, dim_data)"
   ]
  },
  {
   "cell_type": "code",
   "execution_count": 4,
   "id": "599a8737-f5a7-4a29-886e-5c34663959be",
   "metadata": {},
   "outputs": [],
   "source": [
    "model = Sequential()\n",
    "\n",
    "model.add(Dense(1024, input_shape=(dim_data,)))\n",
    "\n",
    "model.add(Dense(100, activation='relu'))\n",
    "model.add(Dense(100, activation='relu'))\n",
    "model.add(Dense(100, activation='relu'))\n",
    "\n",
    "model.add(Dense(512, activation='relu'))\n",
    "\n",
    "model.compile(loss='mse', \n",
    "              optimizer='adam', \n",
    "              metrics=['mse'])"
   ]
  },
  {
   "cell_type": "code",
   "execution_count": 5,
   "id": "a189284c-6ff2-4e35-a94e-e89abfc0f5c0",
   "metadata": {},
   "outputs": [
    {
     "name": "stdout",
     "output_type": "stream",
     "text": [
      "313/313 [==============================] - 1s 1ms/step - loss: 169.7105 - mse: 169.7105\n"
     ]
    }
   ],
   "source": [
    "test_results = model.evaluate(new_x_test, y_test, verbose=1)"
   ]
  },
  {
   "cell_type": "code",
   "execution_count": 6,
   "id": "b22aefc1-09c6-409d-a532-b393b1e0876a",
   "metadata": {},
   "outputs": [],
   "source": [
    "train_features = model.predict(new_x_train)"
   ]
  },
  {
   "cell_type": "code",
   "execution_count": 7,
   "id": "aca6b4ad-1900-46f6-8f2d-a8d408b56c6e",
   "metadata": {},
   "outputs": [],
   "source": [
    "test_features = model.predict(new_x_test)"
   ]
  },
  {
   "cell_type": "code",
   "execution_count": 8,
   "id": "9891cd72-7bc9-4e6c-af33-bc18796ac979",
   "metadata": {},
   "outputs": [],
   "source": [
    "train_features = np.matrix(train_features)\n",
    "write_matrix_to_file(train_features, file_name=\"simple_ann_train_features_nofit.out\")"
   ]
  },
  {
   "cell_type": "code",
   "execution_count": 9,
   "id": "fa1d045f-8293-4486-ac7d-f5d167a81baa",
   "metadata": {},
   "outputs": [],
   "source": [
    "test_features = np.matrix(test_features)\n",
    "write_matrix_to_file(test_features, file_name=\"simple_ann_test_features_nofit.out\")"
   ]
  },
  {
   "cell_type": "code",
   "execution_count": null,
   "id": "0cfb9b4f-f79b-4d57-8354-834063cc686c",
   "metadata": {},
   "outputs": [],
   "source": []
  }
 ],
 "metadata": {
  "kernelspec": {
   "display_name": "Python 3",
   "language": "python",
   "name": "python3"
  },
  "language_info": {
   "codemirror_mode": {
    "name": "ipython",
    "version": 3
   },
   "file_extension": ".py",
   "mimetype": "text/x-python",
   "name": "python",
   "nbconvert_exporter": "python",
   "pygments_lexer": "ipython3",
   "version": "3.6.9"
  }
 },
 "nbformat": 4,
 "nbformat_minor": 5
}
