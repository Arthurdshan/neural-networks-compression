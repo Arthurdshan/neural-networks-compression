{
 "cells": [
  {
   "cell_type": "code",
   "execution_count": 1,
   "id": "0132ff99-36b4-4e43-8a4c-e890a2e38428",
   "metadata": {},
   "outputs": [],
   "source": [
    "import numpy as np\n",
    "import tensorflow as tf\n",
    "\n",
    "from keras.callbacks import EarlyStopping\n",
    "from keras.models import Sequential\n",
    "from keras.layers import Dense\n",
    "from keras.layers import Dropout\n",
    "from keras.datasets import mnist\n",
    "\n",
    "from sklearn.model_selection import train_test_split\n",
    "from sklearn.preprocessing import StandardScaler\n",
    "\n",
    "import matplotlib.pyplot as plt\n",
    "%matplotlib inline"
   ]
  },
  {
   "cell_type": "markdown",
   "id": "8212d53a-dc3f-4693-882c-63d46ad445dc",
   "metadata": {},
   "source": [
    "Loading the VGG16 features and the mnist dataset"
   ]
  },
  {
   "cell_type": "code",
   "execution_count": 2,
   "id": "23b8b6ba-03f9-4478-b1bb-0605669a7848",
   "metadata": {},
   "outputs": [],
   "source": [
    "vgg16_train_features = np.loadtxt('vgg16_train_features.out', dtype='float32', delimiter=' ')"
   ]
  },
  {
   "cell_type": "code",
   "execution_count": 3,
   "id": "8d98391f-0e48-4106-bfb6-ab8aa1ad2836",
   "metadata": {},
   "outputs": [],
   "source": [
    "vgg16_test_features = np.loadtxt('vgg16_test_features.out', dtype='float32', delimiter=' ')"
   ]
  },
  {
   "cell_type": "code",
   "execution_count": 6,
   "id": "879b324d-579e-4258-b982-d52dac6334d8",
   "metadata": {},
   "outputs": [],
   "source": [
    "(_, y_train), (_, y_test) = mnist.load_data()"
   ]
  },
  {
   "cell_type": "code",
   "execution_count": 7,
   "id": "1e7bf296-e3d4-44b2-bd08-62dd48cb73dc",
   "metadata": {},
   "outputs": [],
   "source": [
    "y_train = tf.keras.utils.to_categorical(\n",
    "    y_train, dtype='float32'\n",
    ")"
   ]
  },
  {
   "cell_type": "code",
   "execution_count": 8,
   "id": "f21f36fe-e754-4d02-92e4-4607975228f6",
   "metadata": {},
   "outputs": [],
   "source": [
    "y_test = tf.keras.utils.to_categorical(\n",
    "    y_test, dtype='float32'\n",
    ")"
   ]
  },
  {
   "cell_type": "markdown",
   "id": "a827f3c0-4534-4199-9c46-1a6b0833bf3c",
   "metadata": {},
   "source": [
    "Creating the regression model"
   ]
  },
  {
   "cell_type": "code",
   "execution_count": 19,
   "id": "6b4f28f5-9d8f-4e49-a515-a02537b4bab4",
   "metadata": {},
   "outputs": [],
   "source": [
    "model = Sequential()\n",
    "\n",
    "model.add(Dense(512, input_shape=(512,)))\n",
    "model.add(Dropout(0.1))\n",
    "model.add(Dense(100, activation='relu'))\n",
    "model.add(Dropout(0.1))\n",
    "model.add(Dense(100, activation='relu'))\n",
    "model.add(Dropout(0.1))\n",
    "model.add(Dense(100, activation='relu'))\n",
    "model.add(Dropout(0.1))\n",
    "model.add(Dense(10, activation='softmax'))\n",
    "\n",
    "earlyStopping = EarlyStopping(monitor='val_loss', \n",
    "                              patience=32)\n",
    "\n",
    "model.compile(loss='categorical_crossentropy',\n",
    "              optimizer='adam', \n",
    "              metrics=['accuracy'])\n",
    "\n",
    "history = model.fit(vgg16_train_features,\n",
    "                    y_train,\n",
    "                    epochs=250, \n",
    "                    batch_size=32, \n",
    "                    verbose=0, \n",
    "                    validation_split=0.2, \n",
    "                    callbacks=[earlyStopping])"
   ]
  },
  {
   "cell_type": "code",
   "execution_count": 20,
   "id": "b7fd454d-6cf6-4d7b-baa6-e585afa6f095",
   "metadata": {},
   "outputs": [
    {
     "data": {
      "text/plain": [
       "<matplotlib.legend.Legend at 0x7f05c71420f0>"
      ]
     },
     "execution_count": 20,
     "metadata": {},
     "output_type": "execute_result"
    },
    {
     "data": {
      "image/png": "[encoded data removed]",
      "text/plain": [
       "<Figure size 432x288 with 1 Axes>"
      ]
     },
     "metadata": {
      "needs_background": "light"
     },
     "output_type": "display_data"
    }
   ],
   "source": [
    "plt.plot(history.history['loss'], label='train loss')\n",
    "plt.plot(history.history['val_loss'], label='validation loss')\n",
    "plt.legend()"
   ]
  },
  {
   "cell_type": "markdown",
   "id": "a343bbe6-1131-4472-9df4-001874b3e4b4",
   "metadata": {},
   "source": [
    "## Test features"
   ]
  },
  {
   "cell_type": "code",
   "execution_count": 21,
   "id": "83fd3a9c-bca0-408d-b4c0-8031551bf25d",
   "metadata": {},
   "outputs": [
    {
     "name": "stdout",
     "output_type": "stream",
     "text": [
      "313/313 [==============================] - 1s 2ms/step - loss: 0.2315 - accuracy: 0.9423\n"
     ]
    }
   ],
   "source": [
    "test_results = model.evaluate(vgg16_test_features, y_test, verbose=1)"
   ]
  },
  {
   "cell_type": "code",
   "execution_count": 22,
   "id": "a329ad37-d40b-4ccc-9246-b5cd6c95be4c",
   "metadata": {},
   "outputs": [],
   "source": [
    "predictions = model.predict(vgg16_test_features)"
   ]
  },
  {
   "cell_type": "code",
   "execution_count": 23,
   "id": "1aef9a74-9c47-4f91-84d2-404cbd4e55ec",
   "metadata": {},
   "outputs": [],
   "source": [
    "l = []\n",
    "for y, p in zip(y_test, predictions): \n",
    "    l.append(y - p)"
   ]
  },
  {
   "cell_type": "code",
   "execution_count": 24,
   "id": "daac236d-1c84-4740-b299-530bcf7e9f6a",
   "metadata": {},
   "outputs": [
    {
     "data": {
      "text/plain": [
       "(array([9.5000e+01, 3.7000e+01, 5.5000e+01, 4.7000e+01, 4.6000e+01,\n",
       "        4.6000e+01, 4.9000e+01, 7.7000e+01, 9.2000e+01, 1.3800e+02,\n",
       "        1.3500e+02, 2.2700e+02, 4.7900e+02, 1.0070e+03, 7.4630e+04,\n",
       "        2.1124e+04, 3.6200e+02, 1.8500e+02, 1.3100e+02, 1.0600e+02,\n",
       "        9.8000e+01, 9.3000e+01, 8.3000e+01, 6.7000e+01, 6.8000e+01,\n",
       "        6.6000e+01, 6.5000e+01, 7.7000e+01, 9.5000e+01, 2.2000e+02]),\n",
       " array([-1.        , -0.93333334, -0.8666667 , -0.8       , -0.73333335,\n",
       "        -0.6666667 , -0.6       , -0.53333336, -0.46666667, -0.4       ,\n",
       "        -0.33333334, -0.26666668, -0.2       , -0.13333334, -0.06666667,\n",
       "         0.        ,  0.06666667,  0.13333334,  0.2       ,  0.26666668,\n",
       "         0.33333334,  0.4       ,  0.46666667,  0.53333336,  0.6       ,\n",
       "         0.6666667 ,  0.73333335,  0.8       ,  0.8666667 ,  0.93333334,\n",
       "         1.        ], dtype=float32),\n",
       " <BarContainer object of 30 artists>)"
      ]
     },
     "execution_count": 24,
     "metadata": {},
     "output_type": "execute_result"
    },
    {
     "data": {
      "image/png": "[encoded data removed]",
      "text/plain": [
       "<Figure size 432x288 with 1 Axes>"
      ]
     },
     "metadata": {
      "needs_background": "light"
     },
     "output_type": "display_data"
    }
   ],
   "source": [
    "plt.hist(np.array(l).flatten(), bins=30)"
   ]
  },
  {
   "cell_type": "markdown",
   "id": "a613a261-6fc4-4389-9cfa-c8514086c431",
   "metadata": {},
   "source": [
    "## Train features"
   ]
  },
  {
   "cell_type": "code",
   "execution_count": 25,
   "id": "0331b873-02eb-4fab-a1e5-46deedfd25f7",
   "metadata": {},
   "outputs": [
    {
     "name": "stdout",
     "output_type": "stream",
     "text": [
      "1875/1875 [==============================] - 2s 1ms/step - loss: 0.1778 - accuracy: 0.9502\n"
     ]
    }
   ],
   "source": [
    "train = model.evaluate(vgg16_train_features, y_train, verbose=1)"
   ]
  },
  {
   "cell_type": "code",
   "execution_count": 26,
   "id": "d0c119d6",
   "metadata": {},
   "outputs": [],
   "source": [
    "predictions = model.predict(vgg16_train_features)"
   ]
  },
  {
   "cell_type": "code",
   "execution_count": 27,
   "id": "df5f638c",
   "metadata": {},
   "outputs": [],
   "source": [
    "l = []\n",
    "for y, p in zip(y_train, predictions): \n",
    "    l.append(y - p)"
   ]
  },
  {
   "cell_type": "code",
   "execution_count": 28,
   "id": "ddcbf064",
   "metadata": {},
   "outputs": [
    {
     "data": {
      "text/plain": [
       "(array([4.33000e+02, 2.10000e+02, 2.17000e+02, 2.16000e+02, 2.47000e+02,\n",
       "        2.72000e+02, 3.19000e+02, 4.00000e+02, 5.08000e+02, 6.76000e+02,\n",
       "        8.77000e+02, 1.38200e+03, 2.55400e+03, 6.19000e+03, 4.48157e+05,\n",
       "        1.27309e+05, 2.14400e+03, 1.24300e+03, 8.80000e+02, 6.91000e+02,\n",
       "        5.93000e+02, 4.83000e+02, 4.59000e+02, 4.57000e+02, 4.19000e+02,\n",
       "        3.99000e+02, 3.73000e+02, 4.17000e+02, 5.06000e+02, 9.69000e+02]),\n",
       " array([-1.        , -0.93333334, -0.8666667 , -0.8       , -0.73333335,\n",
       "        -0.6666667 , -0.6       , -0.53333336, -0.46666667, -0.4       ,\n",
       "        -0.33333334, -0.26666668, -0.2       , -0.13333334, -0.06666667,\n",
       "         0.        ,  0.06666667,  0.13333334,  0.2       ,  0.26666668,\n",
       "         0.33333334,  0.4       ,  0.46666667,  0.53333336,  0.6       ,\n",
       "         0.6666667 ,  0.73333335,  0.8       ,  0.8666667 ,  0.93333334,\n",
       "         1.        ], dtype=float32),\n",
       " <BarContainer object of 30 artists>)"
      ]
     },
     "execution_count": 28,
     "metadata": {},
     "output_type": "execute_result"
    },
    {
     "data": {
      "image/png": "[encoded data removed]",
      "text/plain": [
       "<Figure size 432x288 with 1 Axes>"
      ]
     },
     "metadata": {
      "needs_background": "light"
     },
     "output_type": "display_data"
    }
   ],
   "source": [
    "plt.hist(np.array(l).flatten(), bins=30)"
   ]
  }
 ],
 "metadata": {
  "kernelspec": {
   "display_name": "Python 3",
   "language": "python",
   "name": "python3"
  },
  "language_info": {
   "codemirror_mode": {
    "name": "ipython",
    "version": 3
   },
   "file_extension": ".py",
   "mimetype": "text/x-python",
   "name": "python",
   "nbconvert_exporter": "python",
   "pygments_lexer": "ipython3",
   "version": "3.6.9"
  }
 },
 "nbformat": 4,
 "nbformat_minor": 5
}
