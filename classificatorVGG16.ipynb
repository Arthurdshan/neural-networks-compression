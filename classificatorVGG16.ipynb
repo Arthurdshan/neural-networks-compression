{
 "cells": [
  {
   "cell_type": "code",
   "execution_count": 1,
   "id": "0132ff99-36b4-4e43-8a4c-e890a2e38428",
   "metadata": {},
   "outputs": [],
   "source": [
    "import numpy as np\n",
    "import tensorflow as tf\n",
    "\n",
    "from keras.callbacks import EarlyStopping\n",
    "from keras.models import Sequential\n",
    "from keras.layers import Dense\n",
    "from keras.layers import Dropout\n",
    "from keras.datasets import mnist\n",
    "\n",
    "from sklearn.model_selection import train_test_split\n",
    "from sklearn.preprocessing import StandardScaler\n",
    "\n",
    "import matplotlib.pyplot as plt\n",
    "%matplotlib inline"
   ]
  },
  {
   "cell_type": "markdown",
   "id": "8212d53a-dc3f-4693-882c-63d46ad445dc",
   "metadata": {},
   "source": [
    "Loading the VGG16 features and the mnist dataset"
   ]
  },
  {
   "cell_type": "code",
   "execution_count": 2,
   "id": "23b8b6ba-03f9-4478-b1bb-0605669a7848",
   "metadata": {},
   "outputs": [],
   "source": [
    "vgg16_train_features = np.loadtxt('vgg16_train_features.out', dtype='float32', delimiter=' ')"
   ]
  },
  {
   "cell_type": "code",
   "execution_count": 3,
   "id": "8d98391f-0e48-4106-bfb6-ab8aa1ad2836",
   "metadata": {},
   "outputs": [],
   "source": [
    "vgg16_test_features = np.loadtxt('vgg16_test_features.out', dtype='float32', delimiter=' ')"
   ]
  },
  {
   "cell_type": "code",
   "execution_count": 5,
   "id": "01098cd1",
   "metadata": {},
   "outputs": [],
   "source": [
    "# simple_ann_train_features = np.loadtxt('simple_ann_train_feature.out', dtype='float32', delimiter=' ')"
   ]
  },
  {
   "cell_type": "code",
   "execution_count": 6,
   "id": "590e52fd",
   "metadata": {},
   "outputs": [],
   "source": [
    "# simple_ann_test_features = np.loadtxt('simple_ann_test_features.out', dtype='float32', delimiter=' ')"
   ]
  },
  {
   "cell_type": "code",
   "execution_count": 7,
   "id": "879b324d-579e-4258-b982-d52dac6334d8",
   "metadata": {},
   "outputs": [],
   "source": [
    "(_, y_train), (_, y_test) = mnist.load_data()"
   ]
  },
  {
   "cell_type": "code",
   "execution_count": 8,
   "id": "1e7bf296-e3d4-44b2-bd08-62dd48cb73dc",
   "metadata": {},
   "outputs": [],
   "source": [
    "y_train = tf.keras.utils.to_categorical(\n",
    "    y_train, dtype='float32'\n",
    ")"
   ]
  },
  {
   "cell_type": "code",
   "execution_count": 9,
   "id": "f21f36fe-e754-4d02-92e4-4607975228f6",
   "metadata": {},
   "outputs": [],
   "source": [
    "y_test = tf.keras.utils.to_categorical(\n",
    "    y_test, dtype='float32'\n",
    ")"
   ]
  },
  {
   "cell_type": "markdown",
   "id": "a827f3c0-4534-4199-9c46-1a6b0833bf3c",
   "metadata": {},
   "source": [
    "Creating the regression model"
   ]
  },
  {
   "cell_type": "code",
   "execution_count": 10,
   "id": "6b4f28f5-9d8f-4e49-a515-a02537b4bab4",
   "metadata": {},
   "outputs": [],
   "source": [
    "model = Sequential()\n",
    "\n",
    "model.add(Dense(512, input_shape=(512,)))\n",
    "model.add(Dropout(0.05))\n",
    "model.add(Dense(100, activation='relu'))\n",
    "model.add(Dropout(0.05))\n",
    "model.add(Dense(100, activation='relu'))\n",
    "model.add(Dropout(0.05))\n",
    "model.add(Dense(100, activation='relu'))\n",
    "model.add(Dropout(0.05))\n",
    "model.add(Dense(10, activation='softmax'))\n",
    "\n",
    "earlyStopping = EarlyStopping(monitor='val_loss', \n",
    "                              patience=32)\n",
    "\n",
    "model.compile(loss='categorical_crossentropy',\n",
    "              optimizer='adam', \n",
    "              metrics=['accuracy'])\n",
    "\n",
    "history = model.fit(vgg16_train_features,\n",
    "                    y_train,\n",
    "                    epochs=250, \n",
    "                    batch_size=32, \n",
    "                    verbose=0, \n",
    "                    validation_split=0.2, \n",
    "                    callbacks=[earlyStopping])"
   ]
  },
  {
   "cell_type": "code",
   "execution_count": 11,
   "id": "b7fd454d-6cf6-4d7b-baa6-e585afa6f095",
   "metadata": {},
   "outputs": [
    {
     "data": {
      "text/plain": [
       "<matplotlib.legend.Legend at 0x1b20c2a1d30>"
      ]
     },
     "execution_count": 11,
     "metadata": {},
     "output_type": "execute_result"
    },
    {
     "data": {
      "image/png": "[encoded data removed]",
      "text/plain": [
       "<Figure size 432x288 with 1 Axes>"
      ]
     },
     "metadata": {
      "needs_background": "light"
     },
     "output_type": "display_data"
    }
   ],
   "source": [
    "plt.plot(history.history['loss'], label='train loss')\n",
    "plt.plot(history.history['val_loss'], label='validation loss')\n",
    "plt.legend()"
   ]
  },
  {
   "cell_type": "code",
   "execution_count": 12,
   "id": "83fd3a9c-bca0-408d-b4c0-8031551bf25d",
   "metadata": {},
   "outputs": [
    {
     "name": "stdout",
     "output_type": "stream",
     "text": [
      "313/313 [==============================] - 1s 3ms/step - loss: 0.0123 - mse: 0.0123\n"
     ]
    }
   ],
   "source": [
    "test_results = model.evaluate(vgg16_test_features, y_test, verbose=1)"
   ]
  },
  {
   "cell_type": "code",
   "execution_count": 13,
   "id": "a329ad37-d40b-4ccc-9246-b5cd6c95be4c",
   "metadata": {},
   "outputs": [],
   "source": [
    "predictions = model.predict(vgg16_test_features)"
   ]
  },
  {
   "cell_type": "code",
   "execution_count": 14,
   "id": "1aef9a74-9c47-4f91-84d2-404cbd4e55ec",
   "metadata": {},
   "outputs": [],
   "source": [
    "l = []\n",
    "for y, p in zip(y_test, predictions): \n",
    "    l.append(y - p)"
   ]
  },
  {
   "cell_type": "code",
   "execution_count": 15,
   "id": "daac236d-1c84-4740-b299-530bcf7e9f6a",
   "metadata": {},
   "outputs": [
    {
     "data": {
      "text/plain": [
       "(array([1.5000e+01, 6.5000e+01, 8.9000e+01, 1.0100e+02, 8.3000e+01,\n",
       "        7.1000e+01, 7.6000e+01, 9.8000e+01, 9.7000e+01, 1.6300e+02,\n",
       "        2.5900e+02, 4.6200e+02, 1.8360e+03, 3.8214e+04, 5.2453e+04,\n",
       "        1.7060e+03, 2.3910e+03, 5.9200e+02, 1.9400e+02, 9.6000e+01,\n",
       "        9.8000e+01, 1.0100e+02, 8.7000e+01, 9.7000e+01, 7.7000e+01,\n",
       "        8.7000e+01, 1.3200e+02, 2.4400e+02, 1.2000e+01, 4.0000e+00]),\n",
       " array([-1.0439028 , -0.9700232 , -0.8961436 , -0.8222641 , -0.74838454,\n",
       "        -0.67450494, -0.6006254 , -0.52674586, -0.4528663 , -0.37898672,\n",
       "        -0.30510715, -0.23122759, -0.15734804, -0.08346847, -0.00958892,\n",
       "         0.06429064,  0.1381702 ,  0.21204977,  0.28592932,  0.3598089 ,\n",
       "         0.43368843,  0.507568  ,  0.58144754,  0.65532714,  0.7292067 ,\n",
       "         0.8030862 ,  0.8769658 ,  0.95084536,  1.024725  ,  1.0986044 ,\n",
       "         1.172484  ], dtype=float32),\n",
       " <BarContainer object of 30 artists>)"
      ]
     },
     "execution_count": 15,
     "metadata": {},
     "output_type": "execute_result"
    },
    {
     "data": {
      "image/png": "[encoded data removed]",
      "text/plain": [
       "<Figure size 432x288 with 1 Axes>"
      ]
     },
     "metadata": {
      "needs_background": "light"
     },
     "output_type": "display_data"
    }
   ],
   "source": [
    "plt.hist(np.array(l).flatten(), bins=30)"
   ]
  },
  {
   "cell_type": "code",
   "execution_count": 16,
   "id": "0331b873-02eb-4fab-a1e5-46deedfd25f7",
   "metadata": {},
   "outputs": [
    {
     "name": "stdout",
     "output_type": "stream",
     "text": [
      "1875/1875 [==============================] - 4s 2ms/step - loss: 0.0124 - mse: 0.0124\n"
     ]
    }
   ],
   "source": [
    "train = model.evaluate(vgg16_train_features, y_train, verbose=1)"
   ]
  },
  {
   "cell_type": "code",
   "execution_count": null,
   "id": "d0c119d6",
   "metadata": {},
   "outputs": [],
   "source": [
    "predictions = model.predict(vgg16_train_features)"
   ]
  },
  {
   "cell_type": "code",
   "execution_count": 18,
   "id": "df5f638c",
   "metadata": {},
   "outputs": [],
   "source": [
    "l = []\n",
    "for y, p in zip(y_train, predictions): \n",
    "    l.append(y - p)"
   ]
  },
  {
   "cell_type": "code",
   "execution_count": 19,
   "id": "ddcbf064",
   "metadata": {},
   "outputs": [
    {
     "data": {
      "text/plain": [
       "(array([5.0000e+00, 4.4000e+01, 6.7300e+02, 3.3930e+03, 1.6210e+03,\n",
       "        2.0250e+03, 4.9200e+02, 2.1400e+02, 1.6000e+02, 2.0200e+02,\n",
       "        1.7700e+02, 3.0400e+02, 3.2100e+02, 7.4300e+02, 5.3370e+03,\n",
       "        7.2853e+04, 1.8740e+03, 3.8400e+02, 8.9000e+01, 3.3000e+01,\n",
       "        1.4000e+01, 2.5000e+01, 1.7000e+01, 2.7000e+01, 3.3000e+01,\n",
       "        5.2000e+01, 1.6700e+02, 3.9320e+03, 4.7610e+03, 2.8000e+01]),\n",
       " array([-1.2506632 , -1.170574  , -1.0904847 , -1.0103955 , -0.9303064 ,\n",
       "        -0.85021716, -0.77012795, -0.69003874, -0.6099495 , -0.5298603 ,\n",
       "        -0.44977114, -0.36968192, -0.2895927 , -0.20950352, -0.1294143 ,\n",
       "        -0.04932511,  0.0307641 ,  0.1108533 ,  0.1909425 ,  0.2710317 ,\n",
       "         0.35112092,  0.4312101 ,  0.5112993 ,  0.5913885 ,  0.67147774,\n",
       "         0.75156695,  0.83165616,  0.9117453 ,  0.9918345 ,  1.0719237 ,\n",
       "         1.152013  ], dtype=float32),\n",
       " <BarContainer object of 30 artists>)"
      ]
     },
     "execution_count": 19,
     "metadata": {},
     "output_type": "execute_result"
    },
    {
     "data": {
      "image/png": "[encoded data removed]",
      "text/plain": [
       "<Figure size 432x288 with 1 Axes>"
      ]
     },
     "metadata": {
      "needs_background": "light"
     },
     "output_type": "display_data"
    }
   ],
   "source": [
    "plt.hist(np.array(l).flatten(), bins=30)"
   ]
  },
  {
   "cell_type": "code",
   "execution_count": null,
   "id": "80f5d527",
   "metadata": {},
   "outputs": [],
   "source": []
  }
 ],
 "metadata": {
  "kernelspec": {
   "display_name": "Python 3 (ipykernel)",
   "language": "python",
   "name": "python3"
  },
  "language_info": {
   "codemirror_mode": {
    "name": "ipython",
    "version": 3
   },
   "file_extension": ".py",
   "mimetype": "text/x-python",
   "name": "python",
   "nbconvert_exporter": "python",
   "pygments_lexer": "ipython3",
   "version": "3.9.7"
  }
 },
 "nbformat": 4,
 "nbformat_minor": 5
}
